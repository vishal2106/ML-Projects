{
  "nbformat": 4,
  "nbformat_minor": 0,
  "metadata": {
    "colab": {
      "name": "MNIST_with_model_saving_and_loading.ipynb",
      "version": "0.3.2",
      "provenance": []
    },
    "kernelspec": {
      "name": "python3",
      "display_name": "Python 3"
    },
    "accelerator": "GPU"
  },
  "cells": [
    {
      "metadata": {
        "id": "n6f_qEDM59o3",
        "colab_type": "code",
        "colab": {}
      },
      "cell_type": "code",
      "source": [
        "!pip install -q h5py pyyaml "
      ],
      "execution_count": 0,
      "outputs": []
    },
    {
      "metadata": {
        "id": "oucTo7Jn6Ckt",
        "colab_type": "code",
        "colab": {
          "base_uri": "https://localhost:8080/",
          "height": 34
        },
        "outputId": "f4b18737-61aa-4c7b-868f-1e0e2987f4ac"
      },
      "cell_type": "code",
      "source": [
        "import os\n",
        "\n",
        "import tensorflow as tf\n",
        "from tensorflow import keras\n",
        "\n",
        "tf.__version__"
      ],
      "execution_count": 2,
      "outputs": [
        {
          "output_type": "execute_result",
          "data": {
            "text/plain": [
              "'1.13.1'"
            ]
          },
          "metadata": {
            "tags": []
          },
          "execution_count": 2
        }
      ]
    },
    {
      "metadata": {
        "id": "ntXl7H3O6Nfc",
        "colab_type": "code",
        "colab": {
          "base_uri": "https://localhost:8080/",
          "height": 51
        },
        "outputId": "9e59d7cd-d307-4558-8865-dc5865471787"
      },
      "cell_type": "code",
      "source": [
        "(train_images, train_labels), (test_images, test_labels) = tf.keras.datasets.mnist.load_data()\n",
        "\n",
        "train_labels = train_labels[:1000]\n",
        "test_labels = test_labels[:1000]\n",
        "\n",
        "train_images = train_images[:1000].reshape(-1, 28 * 28) / 255.0\n",
        "test_images = test_images[:1000].reshape(-1, 28 * 28) / 255.0"
      ],
      "execution_count": 3,
      "outputs": [
        {
          "output_type": "stream",
          "text": [
            "Downloading data from https://storage.googleapis.com/tensorflow/tf-keras-datasets/mnist.npz\n",
            "11493376/11490434 [==============================] - 0s 0us/step\n"
          ],
          "name": "stdout"
        }
      ]
    },
    {
      "metadata": {
        "id": "4vEJIw4K6usn",
        "colab_type": "code",
        "colab": {
          "base_uri": "https://localhost:8080/",
          "height": 360
        },
        "outputId": "7d9db67c-66b3-46d4-b593-83e21d34f17f"
      },
      "cell_type": "code",
      "source": [
        "def create_model():\n",
        "  model = tf.keras.models.Sequential([\n",
        "    keras.layers.Dense(512, activation=tf.keras.activations.relu, input_shape=(784,)),\n",
        "    keras.layers.Dropout(0.2),\n",
        "    keras.layers.Dense(10, activation=tf.keras.activations.softmax)\n",
        "  ])\n",
        "  \n",
        "  model.compile(optimizer=tf.keras.optimizers.Adam(),\n",
        "                loss=tf.keras.losses.sparse_categorical_crossentropy,\n",
        "                metrics=['accuracy'])\n",
        "  \n",
        "  return model\n",
        "\n",
        "model = create_model()\n",
        "model.summary()"
      ],
      "execution_count": 4,
      "outputs": [
        {
          "output_type": "stream",
          "text": [
            "WARNING:tensorflow:From /usr/local/lib/python3.6/dist-packages/tensorflow/python/ops/resource_variable_ops.py:435: colocate_with (from tensorflow.python.framework.ops) is deprecated and will be removed in a future version.\n",
            "Instructions for updating:\n",
            "Colocations handled automatically by placer.\n",
            "WARNING:tensorflow:From /usr/local/lib/python3.6/dist-packages/tensorflow/python/keras/layers/core.py:143: calling dropout (from tensorflow.python.ops.nn_ops) with keep_prob is deprecated and will be removed in a future version.\n",
            "Instructions for updating:\n",
            "Please use `rate` instead of `keep_prob`. Rate should be set to `rate = 1 - keep_prob`.\n",
            "_________________________________________________________________\n",
            "Layer (type)                 Output Shape              Param #   \n",
            "=================================================================\n",
            "dense (Dense)                (None, 512)               401920    \n",
            "_________________________________________________________________\n",
            "dropout (Dropout)            (None, 512)               0         \n",
            "_________________________________________________________________\n",
            "dense_1 (Dense)              (None, 10)                5130      \n",
            "=================================================================\n",
            "Total params: 407,050\n",
            "Trainable params: 407,050\n",
            "Non-trainable params: 0\n",
            "_________________________________________________________________\n"
          ],
          "name": "stdout"
        }
      ]
    },
    {
      "metadata": {
        "id": "BskwerW2-T1g",
        "colab_type": "code",
        "colab": {
          "base_uri": "https://localhost:8080/",
          "height": 1312
        },
        "outputId": "19f51b97-dca0-4a7f-910e-0f095832ddcb"
      },
      "cell_type": "code",
      "source": [
        "checkpoint_path = \"training_1/cp.ckpt\"\n",
        "checkpoint_dir = os.path.dirname(checkpoint_path)\n",
        "cp_callback = tf.keras.callbacks.ModelCheckpoint(checkpoint_path, \n",
        "                                                 save_weights_only=True,\n",
        "                                                 verbose=1)\n",
        "model = create_model()\n",
        "\n",
        "model.fit(train_images, train_labels,  epochs = 10, \n",
        "          validation_data = (test_images,test_labels),\n",
        "          callbacks = [cp_callback])"
      ],
      "execution_count": 5,
      "outputs": [
        {
          "output_type": "stream",
          "text": [
            "Train on 1000 samples, validate on 1000 samples\n",
            "Epoch 1/10\n",
            " 864/1000 [========================>.....] - ETA: 0s - loss: 1.2340 - acc: 0.6597\n",
            "Epoch 00001: saving model to training_1/cp.ckpt\n",
            "WARNING:tensorflow:This model was compiled with a Keras optimizer (<tensorflow.python.keras.optimizers.Adam object at 0x7f6e238150b8>) but is being saved in TensorFlow format with `save_weights`. The model's weights will be saved, but unlike with TensorFlow optimizers in the TensorFlow format the optimizer's state will not be saved.\n",
            "\n",
            "Consider using a TensorFlow optimizer from `tf.train`.\n",
            "WARNING:tensorflow:From /usr/local/lib/python3.6/dist-packages/tensorflow/python/keras/engine/network.py:1436: update_checkpoint_state (from tensorflow.python.training.checkpoint_management) is deprecated and will be removed in a future version.\n",
            "Instructions for updating:\n",
            "Use tf.train.CheckpointManager to manage checkpoints rather than manually editing the Checkpoint proto.\n",
            "1000/1000 [==============================] - 1s 581us/sample - loss: 1.1460 - acc: 0.6900 - val_loss: 0.7311 - val_acc: 0.7840\n",
            "Epoch 2/10\n",
            " 896/1000 [=========================>....] - ETA: 0s - loss: 0.4247 - acc: 0.8828\n",
            "Epoch 00002: saving model to training_1/cp.ckpt\n",
            "WARNING:tensorflow:This model was compiled with a Keras optimizer (<tensorflow.python.keras.optimizers.Adam object at 0x7f6e238150b8>) but is being saved in TensorFlow format with `save_weights`. The model's weights will be saved, but unlike with TensorFlow optimizers in the TensorFlow format the optimizer's state will not be saved.\n",
            "\n",
            "Consider using a TensorFlow optimizer from `tf.train`.\n",
            "1000/1000 [==============================] - 0s 196us/sample - loss: 0.4240 - acc: 0.8830 - val_loss: 0.5353 - val_acc: 0.8250\n",
            "Epoch 3/10\n",
            " 928/1000 [==========================>...] - ETA: 0s - loss: 0.2857 - acc: 0.9192\n",
            "Epoch 00003: saving model to training_1/cp.ckpt\n",
            "WARNING:tensorflow:This model was compiled with a Keras optimizer (<tensorflow.python.keras.optimizers.Adam object at 0x7f6e238150b8>) but is being saved in TensorFlow format with `save_weights`. The model's weights will be saved, but unlike with TensorFlow optimizers in the TensorFlow format the optimizer's state will not be saved.\n",
            "\n",
            "Consider using a TensorFlow optimizer from `tf.train`.\n",
            "1000/1000 [==============================] - 0s 195us/sample - loss: 0.2853 - acc: 0.9210 - val_loss: 0.4644 - val_acc: 0.8550\n",
            "Epoch 4/10\n",
            " 832/1000 [=======================>......] - ETA: 0s - loss: 0.1888 - acc: 0.9591\n",
            "Epoch 00004: saving model to training_1/cp.ckpt\n",
            "WARNING:tensorflow:This model was compiled with a Keras optimizer (<tensorflow.python.keras.optimizers.Adam object at 0x7f6e238150b8>) but is being saved in TensorFlow format with `save_weights`. The model's weights will be saved, but unlike with TensorFlow optimizers in the TensorFlow format the optimizer's state will not be saved.\n",
            "\n",
            "Consider using a TensorFlow optimizer from `tf.train`.\n",
            "1000/1000 [==============================] - 0s 209us/sample - loss: 0.1903 - acc: 0.9550 - val_loss: 0.4499 - val_acc: 0.8580\n",
            "Epoch 5/10\n",
            " 832/1000 [=======================>......] - ETA: 0s - loss: 0.1639 - acc: 0.9615\n",
            "Epoch 00005: saving model to training_1/cp.ckpt\n",
            "WARNING:tensorflow:This model was compiled with a Keras optimizer (<tensorflow.python.keras.optimizers.Adam object at 0x7f6e238150b8>) but is being saved in TensorFlow format with `save_weights`. The model's weights will be saved, but unlike with TensorFlow optimizers in the TensorFlow format the optimizer's state will not be saved.\n",
            "\n",
            "Consider using a TensorFlow optimizer from `tf.train`.\n",
            "1000/1000 [==============================] - 0s 203us/sample - loss: 0.1597 - acc: 0.9630 - val_loss: 0.4446 - val_acc: 0.8540\n",
            "Epoch 6/10\n",
            " 800/1000 [=======================>......] - ETA: 0s - loss: 0.1036 - acc: 0.9775\n",
            "Epoch 00006: saving model to training_1/cp.ckpt\n",
            "WARNING:tensorflow:This model was compiled with a Keras optimizer (<tensorflow.python.keras.optimizers.Adam object at 0x7f6e238150b8>) but is being saved in TensorFlow format with `save_weights`. The model's weights will be saved, but unlike with TensorFlow optimizers in the TensorFlow format the optimizer's state will not be saved.\n",
            "\n",
            "Consider using a TensorFlow optimizer from `tf.train`.\n",
            "1000/1000 [==============================] - 0s 212us/sample - loss: 0.1070 - acc: 0.9780 - val_loss: 0.4004 - val_acc: 0.8710\n",
            "Epoch 7/10\n",
            " 832/1000 [=======================>......] - ETA: 0s - loss: 0.0865 - acc: 0.9892\n",
            "Epoch 00007: saving model to training_1/cp.ckpt\n",
            "WARNING:tensorflow:This model was compiled with a Keras optimizer (<tensorflow.python.keras.optimizers.Adam object at 0x7f6e238150b8>) but is being saved in TensorFlow format with `save_weights`. The model's weights will be saved, but unlike with TensorFlow optimizers in the TensorFlow format the optimizer's state will not be saved.\n",
            "\n",
            "Consider using a TensorFlow optimizer from `tf.train`.\n",
            "1000/1000 [==============================] - 0s 209us/sample - loss: 0.0839 - acc: 0.9890 - val_loss: 0.4032 - val_acc: 0.8720\n",
            "Epoch 8/10\n",
            " 864/1000 [========================>.....] - ETA: 0s - loss: 0.0662 - acc: 0.9919\n",
            "Epoch 00008: saving model to training_1/cp.ckpt\n",
            "WARNING:tensorflow:This model was compiled with a Keras optimizer (<tensorflow.python.keras.optimizers.Adam object at 0x7f6e238150b8>) but is being saved in TensorFlow format with `save_weights`. The model's weights will be saved, but unlike with TensorFlow optimizers in the TensorFlow format the optimizer's state will not be saved.\n",
            "\n",
            "Consider using a TensorFlow optimizer from `tf.train`.\n",
            "1000/1000 [==============================] - 0s 203us/sample - loss: 0.0675 - acc: 0.9900 - val_loss: 0.4208 - val_acc: 0.8610\n",
            "Epoch 9/10\n",
            " 736/1000 [=====================>........] - ETA: 0s - loss: 0.0479 - acc: 0.9973\n",
            "Epoch 00009: saving model to training_1/cp.ckpt\n",
            "WARNING:tensorflow:This model was compiled with a Keras optimizer (<tensorflow.python.keras.optimizers.Adam object at 0x7f6e238150b8>) but is being saved in TensorFlow format with `save_weights`. The model's weights will be saved, but unlike with TensorFlow optimizers in the TensorFlow format the optimizer's state will not be saved.\n",
            "\n",
            "Consider using a TensorFlow optimizer from `tf.train`.\n",
            "1000/1000 [==============================] - 0s 224us/sample - loss: 0.0489 - acc: 0.9970 - val_loss: 0.3929 - val_acc: 0.8690\n",
            "Epoch 10/10\n",
            " 864/1000 [========================>.....] - ETA: 0s - loss: 0.0363 - acc: 1.0000\n",
            "Epoch 00010: saving model to training_1/cp.ckpt\n",
            "WARNING:tensorflow:This model was compiled with a Keras optimizer (<tensorflow.python.keras.optimizers.Adam object at 0x7f6e238150b8>) but is being saved in TensorFlow format with `save_weights`. The model's weights will be saved, but unlike with TensorFlow optimizers in the TensorFlow format the optimizer's state will not be saved.\n",
            "\n",
            "Consider using a TensorFlow optimizer from `tf.train`.\n",
            "1000/1000 [==============================] - 0s 207us/sample - loss: 0.0367 - acc: 1.0000 - val_loss: 0.4064 - val_acc: 0.8690\n"
          ],
          "name": "stdout"
        },
        {
          "output_type": "execute_result",
          "data": {
            "text/plain": [
              "<tensorflow.python.keras.callbacks.History at 0x7f6e224f6cf8>"
            ]
          },
          "metadata": {
            "tags": []
          },
          "execution_count": 5
        }
      ]
    },
    {
      "metadata": {
        "id": "6U0yw7J--man",
        "colab_type": "code",
        "colab": {
          "base_uri": "https://localhost:8080/",
          "height": 34
        },
        "outputId": "cea380ff-5e2d-458d-ccde-67b5a95d8131"
      },
      "cell_type": "code",
      "source": [
        "!ls {checkpoint_dir}"
      ],
      "execution_count": 6,
      "outputs": [
        {
          "output_type": "stream",
          "text": [
            "checkpoint  cp.ckpt.data-00000-of-00001  cp.ckpt.index\n"
          ],
          "name": "stdout"
        }
      ]
    },
    {
      "metadata": {
        "id": "5rs_c5TW-whU",
        "colab_type": "code",
        "colab": {
          "base_uri": "https://localhost:8080/",
          "height": 51
        },
        "outputId": "44b08493-e379-4261-efe1-266931861c7a"
      },
      "cell_type": "code",
      "source": [
        "model = create_model()\n",
        "\n",
        "loss, acc = model.evaluate(test_images, test_labels)\n",
        "print(\"Untrained model, accuracy: {:5.2f}%\".format(100*acc))"
      ],
      "execution_count": 7,
      "outputs": [
        {
          "output_type": "stream",
          "text": [
            "1000/1000 [==============================] - 0s 117us/sample - loss: 2.3619 - acc: 0.1120\n",
            "Untrained model, accuracy: 11.20%\n"
          ],
          "name": "stdout"
        }
      ]
    },
    {
      "metadata": {
        "id": "AK7AtLjv-_r1",
        "colab_type": "code",
        "colab": {}
      },
      "cell_type": "code",
      "source": [
        "#After loading the weights to the model"
      ],
      "execution_count": 0,
      "outputs": []
    },
    {
      "metadata": {
        "id": "q63EryMT_GMP",
        "colab_type": "code",
        "colab": {
          "base_uri": "https://localhost:8080/",
          "height": 51
        },
        "outputId": "57a6a7e0-dd2b-4f76-f30f-934e88f678b8"
      },
      "cell_type": "code",
      "source": [
        "model.load_weights(checkpoint_path)\n",
        "loss,acc = model.evaluate(test_images, test_labels)\n",
        "print(\"Restored model, accuracy: {:5.2f}%\".format(100*acc))"
      ],
      "execution_count": 9,
      "outputs": [
        {
          "output_type": "stream",
          "text": [
            "1000/1000 [==============================] - 0s 72us/sample - loss: 0.4064 - acc: 0.8690\n",
            "Restored model, accuracy: 86.90%\n"
          ],
          "name": "stdout"
        }
      ]
    },
    {
      "metadata": {
        "id": "EuZ5i2mz_G4h",
        "colab_type": "code",
        "colab": {}
      },
      "cell_type": "code",
      "source": [
        "#Callback to save model checkpoint after every 5 epoch"
      ],
      "execution_count": 0,
      "outputs": []
    },
    {
      "metadata": {
        "id": "_2-Za6zX_m5y",
        "colab_type": "code",
        "colab": {
          "base_uri": "https://localhost:8080/",
          "height": 2672
        },
        "outputId": "45932fef-210b-4641-d3bd-8e602be97f88"
      },
      "cell_type": "code",
      "source": [
        "checkpoint_path = \"training_2/cp-{epoch:04d}.ckpt\"\n",
        "checkpoint_dir = os.path.dirname(checkpoint_path)\n",
        "\n",
        "cp_callback = tf.keras.callbacks.ModelCheckpoint(\n",
        "    checkpoint_path, verbose=1, save_weights_only=True,\n",
        "    period=5)\n",
        "\n",
        "model = create_model()\n",
        "model.save_weights(checkpoint_path.format(epoch=0))\n",
        "model.fit(train_images, train_labels,\n",
        "          epochs = 50, callbacks = [cp_callback],\n",
        "          validation_data = (test_images,test_labels),\n",
        "          verbose=2)"
      ],
      "execution_count": 12,
      "outputs": [
        {
          "output_type": "stream",
          "text": [
            "WARNING:tensorflow:This model was compiled with a Keras optimizer (<tensorflow.python.keras.optimizers.Adam object at 0x7f6e1a79ccc0>) but is being saved in TensorFlow format with `save_weights`. The model's weights will be saved, but unlike with TensorFlow optimizers in the TensorFlow format the optimizer's state will not be saved.\n",
            "\n",
            "Consider using a TensorFlow optimizer from `tf.train`.\n",
            "Train on 1000 samples, validate on 1000 samples\n",
            "Epoch 1/50\n",
            " - 0s - loss: 1.1929 - acc: 0.6540 - val_loss: 0.7153 - val_acc: 0.7830\n",
            "Epoch 2/50\n",
            " - 0s - loss: 0.4105 - acc: 0.8880 - val_loss: 0.5316 - val_acc: 0.8370\n",
            "Epoch 3/50\n",
            " - 0s - loss: 0.2906 - acc: 0.9210 - val_loss: 0.4673 - val_acc: 0.8500\n",
            "Epoch 4/50\n",
            " - 0s - loss: 0.2026 - acc: 0.9620 - val_loss: 0.4661 - val_acc: 0.8530\n",
            "Epoch 5/50\n",
            "\n",
            "Epoch 00005: saving model to training_2/cp-0005.ckpt\n",
            "WARNING:tensorflow:This model was compiled with a Keras optimizer (<tensorflow.python.keras.optimizers.Adam object at 0x7f6e1a79ccc0>) but is being saved in TensorFlow format with `save_weights`. The model's weights will be saved, but unlike with TensorFlow optimizers in the TensorFlow format the optimizer's state will not be saved.\n",
            "\n",
            "Consider using a TensorFlow optimizer from `tf.train`.\n",
            " - 0s - loss: 0.1622 - acc: 0.9690 - val_loss: 0.4534 - val_acc: 0.8510\n",
            "Epoch 6/50\n",
            " - 0s - loss: 0.1068 - acc: 0.9880 - val_loss: 0.4228 - val_acc: 0.8640\n",
            "Epoch 7/50\n",
            " - 0s - loss: 0.0842 - acc: 0.9840 - val_loss: 0.4013 - val_acc: 0.8690\n",
            "Epoch 8/50\n",
            " - 0s - loss: 0.0764 - acc: 0.9890 - val_loss: 0.4295 - val_acc: 0.8590\n",
            "Epoch 9/50\n",
            " - 0s - loss: 0.0559 - acc: 0.9970 - val_loss: 0.4072 - val_acc: 0.8640\n",
            "Epoch 10/50\n",
            "\n",
            "Epoch 00010: saving model to training_2/cp-0010.ckpt\n",
            "WARNING:tensorflow:This model was compiled with a Keras optimizer (<tensorflow.python.keras.optimizers.Adam object at 0x7f6e1a79ccc0>) but is being saved in TensorFlow format with `save_weights`. The model's weights will be saved, but unlike with TensorFlow optimizers in the TensorFlow format the optimizer's state will not be saved.\n",
            "\n",
            "Consider using a TensorFlow optimizer from `tf.train`.\n",
            " - 0s - loss: 0.0400 - acc: 0.9990 - val_loss: 0.4184 - val_acc: 0.8680\n",
            "Epoch 11/50\n",
            " - 0s - loss: 0.0323 - acc: 1.0000 - val_loss: 0.4191 - val_acc: 0.8690\n",
            "Epoch 12/50\n",
            " - 0s - loss: 0.0246 - acc: 0.9990 - val_loss: 0.4155 - val_acc: 0.8720\n",
            "Epoch 13/50\n",
            " - 0s - loss: 0.0203 - acc: 1.0000 - val_loss: 0.4238 - val_acc: 0.8710\n",
            "Epoch 14/50\n",
            " - 0s - loss: 0.0190 - acc: 0.9990 - val_loss: 0.4291 - val_acc: 0.8710\n",
            "Epoch 15/50\n",
            "\n",
            "Epoch 00015: saving model to training_2/cp-0015.ckpt\n",
            "WARNING:tensorflow:This model was compiled with a Keras optimizer (<tensorflow.python.keras.optimizers.Adam object at 0x7f6e1a79ccc0>) but is being saved in TensorFlow format with `save_weights`. The model's weights will be saved, but unlike with TensorFlow optimizers in the TensorFlow format the optimizer's state will not be saved.\n",
            "\n",
            "Consider using a TensorFlow optimizer from `tf.train`.\n",
            " - 0s - loss: 0.0150 - acc: 1.0000 - val_loss: 0.4239 - val_acc: 0.8740\n",
            "Epoch 16/50\n",
            " - 0s - loss: 0.0143 - acc: 1.0000 - val_loss: 0.4189 - val_acc: 0.8770\n",
            "Epoch 17/50\n",
            " - 0s - loss: 0.0114 - acc: 1.0000 - val_loss: 0.4423 - val_acc: 0.8710\n",
            "Epoch 18/50\n",
            " - 0s - loss: 0.0098 - acc: 1.0000 - val_loss: 0.4224 - val_acc: 0.8760\n",
            "Epoch 19/50\n",
            " - 0s - loss: 0.0081 - acc: 1.0000 - val_loss: 0.4311 - val_acc: 0.8780\n",
            "Epoch 20/50\n",
            "\n",
            "Epoch 00020: saving model to training_2/cp-0020.ckpt\n",
            "WARNING:tensorflow:This model was compiled with a Keras optimizer (<tensorflow.python.keras.optimizers.Adam object at 0x7f6e1a79ccc0>) but is being saved in TensorFlow format with `save_weights`. The model's weights will be saved, but unlike with TensorFlow optimizers in the TensorFlow format the optimizer's state will not be saved.\n",
            "\n",
            "Consider using a TensorFlow optimizer from `tf.train`.\n",
            " - 0s - loss: 0.0074 - acc: 1.0000 - val_loss: 0.4341 - val_acc: 0.8730\n",
            "Epoch 21/50\n",
            " - 0s - loss: 0.0073 - acc: 1.0000 - val_loss: 0.4349 - val_acc: 0.8690\n",
            "Epoch 22/50\n",
            " - 0s - loss: 0.0079 - acc: 1.0000 - val_loss: 0.4437 - val_acc: 0.8720\n",
            "Epoch 23/50\n",
            " - 0s - loss: 0.0058 - acc: 1.0000 - val_loss: 0.4476 - val_acc: 0.8730\n",
            "Epoch 24/50\n",
            " - 0s - loss: 0.0057 - acc: 1.0000 - val_loss: 0.4449 - val_acc: 0.8780\n",
            "Epoch 25/50\n",
            "\n",
            "Epoch 00025: saving model to training_2/cp-0025.ckpt\n",
            "WARNING:tensorflow:This model was compiled with a Keras optimizer (<tensorflow.python.keras.optimizers.Adam object at 0x7f6e1a79ccc0>) but is being saved in TensorFlow format with `save_weights`. The model's weights will be saved, but unlike with TensorFlow optimizers in the TensorFlow format the optimizer's state will not be saved.\n",
            "\n",
            "Consider using a TensorFlow optimizer from `tf.train`.\n",
            " - 0s - loss: 0.0054 - acc: 1.0000 - val_loss: 0.4499 - val_acc: 0.8760\n",
            "Epoch 26/50\n",
            " - 0s - loss: 0.0045 - acc: 1.0000 - val_loss: 0.4560 - val_acc: 0.8710\n",
            "Epoch 27/50\n",
            " - 0s - loss: 0.0051 - acc: 1.0000 - val_loss: 0.4502 - val_acc: 0.8790\n",
            "Epoch 28/50\n",
            " - 0s - loss: 0.0045 - acc: 1.0000 - val_loss: 0.4582 - val_acc: 0.8720\n",
            "Epoch 29/50\n",
            " - 0s - loss: 0.0035 - acc: 1.0000 - val_loss: 0.4577 - val_acc: 0.8750\n",
            "Epoch 30/50\n",
            "\n",
            "Epoch 00030: saving model to training_2/cp-0030.ckpt\n",
            "WARNING:tensorflow:This model was compiled with a Keras optimizer (<tensorflow.python.keras.optimizers.Adam object at 0x7f6e1a79ccc0>) but is being saved in TensorFlow format with `save_weights`. The model's weights will be saved, but unlike with TensorFlow optimizers in the TensorFlow format the optimizer's state will not be saved.\n",
            "\n",
            "Consider using a TensorFlow optimizer from `tf.train`.\n",
            " - 0s - loss: 0.0031 - acc: 1.0000 - val_loss: 0.4637 - val_acc: 0.8720\n",
            "Epoch 31/50\n",
            " - 0s - loss: 0.0036 - acc: 1.0000 - val_loss: 0.4702 - val_acc: 0.8790\n",
            "Epoch 32/50\n",
            " - 0s - loss: 0.0031 - acc: 1.0000 - val_loss: 0.4689 - val_acc: 0.8710\n",
            "Epoch 33/50\n",
            " - 0s - loss: 0.0026 - acc: 1.0000 - val_loss: 0.4700 - val_acc: 0.8720\n",
            "Epoch 34/50\n",
            " - 0s - loss: 0.0024 - acc: 1.0000 - val_loss: 0.4703 - val_acc: 0.8720\n",
            "Epoch 35/50\n",
            "\n",
            "Epoch 00035: saving model to training_2/cp-0035.ckpt\n",
            "WARNING:tensorflow:This model was compiled with a Keras optimizer (<tensorflow.python.keras.optimizers.Adam object at 0x7f6e1a79ccc0>) but is being saved in TensorFlow format with `save_weights`. The model's weights will be saved, but unlike with TensorFlow optimizers in the TensorFlow format the optimizer's state will not be saved.\n",
            "\n",
            "Consider using a TensorFlow optimizer from `tf.train`.\n",
            " - 0s - loss: 0.0023 - acc: 1.0000 - val_loss: 0.4701 - val_acc: 0.8750\n",
            "Epoch 36/50\n",
            " - 0s - loss: 0.0022 - acc: 1.0000 - val_loss: 0.4781 - val_acc: 0.8720\n",
            "Epoch 37/50\n",
            " - 0s - loss: 0.0023 - acc: 1.0000 - val_loss: 0.4758 - val_acc: 0.8740\n",
            "Epoch 38/50\n",
            " - 0s - loss: 0.0020 - acc: 1.0000 - val_loss: 0.4866 - val_acc: 0.8730\n",
            "Epoch 39/50\n",
            " - 0s - loss: 0.0020 - acc: 1.0000 - val_loss: 0.4901 - val_acc: 0.8660\n",
            "Epoch 40/50\n",
            "\n",
            "Epoch 00040: saving model to training_2/cp-0040.ckpt\n",
            "WARNING:tensorflow:This model was compiled with a Keras optimizer (<tensorflow.python.keras.optimizers.Adam object at 0x7f6e1a79ccc0>) but is being saved in TensorFlow format with `save_weights`. The model's weights will be saved, but unlike with TensorFlow optimizers in the TensorFlow format the optimizer's state will not be saved.\n",
            "\n",
            "Consider using a TensorFlow optimizer from `tf.train`.\n",
            " - 0s - loss: 0.0017 - acc: 1.0000 - val_loss: 0.4856 - val_acc: 0.8710\n",
            "Epoch 41/50\n",
            " - 0s - loss: 0.0017 - acc: 1.0000 - val_loss: 0.4917 - val_acc: 0.8750\n",
            "Epoch 42/50\n",
            " - 0s - loss: 0.0015 - acc: 1.0000 - val_loss: 0.4944 - val_acc: 0.8750\n",
            "Epoch 43/50\n",
            " - 0s - loss: 0.0013 - acc: 1.0000 - val_loss: 0.4930 - val_acc: 0.8710\n",
            "Epoch 44/50\n",
            " - 0s - loss: 0.0014 - acc: 1.0000 - val_loss: 0.4903 - val_acc: 0.8740\n",
            "Epoch 45/50\n",
            "\n",
            "Epoch 00045: saving model to training_2/cp-0045.ckpt\n",
            "WARNING:tensorflow:This model was compiled with a Keras optimizer (<tensorflow.python.keras.optimizers.Adam object at 0x7f6e1a79ccc0>) but is being saved in TensorFlow format with `save_weights`. The model's weights will be saved, but unlike with TensorFlow optimizers in the TensorFlow format the optimizer's state will not be saved.\n",
            "\n",
            "Consider using a TensorFlow optimizer from `tf.train`.\n",
            " - 0s - loss: 0.0014 - acc: 1.0000 - val_loss: 0.4925 - val_acc: 0.8730\n",
            "Epoch 46/50\n",
            " - 0s - loss: 0.0015 - acc: 1.0000 - val_loss: 0.4916 - val_acc: 0.8730\n",
            "Epoch 47/50\n",
            " - 0s - loss: 0.0013 - acc: 1.0000 - val_loss: 0.4987 - val_acc: 0.8780\n",
            "Epoch 48/50\n",
            " - 0s - loss: 0.0018 - acc: 1.0000 - val_loss: 0.4946 - val_acc: 0.8720\n",
            "Epoch 49/50\n",
            " - 0s - loss: 0.0015 - acc: 1.0000 - val_loss: 0.4921 - val_acc: 0.8700\n",
            "Epoch 50/50\n",
            "\n",
            "Epoch 00050: saving model to training_2/cp-0050.ckpt\n",
            "WARNING:tensorflow:This model was compiled with a Keras optimizer (<tensorflow.python.keras.optimizers.Adam object at 0x7f6e1a79ccc0>) but is being saved in TensorFlow format with `save_weights`. The model's weights will be saved, but unlike with TensorFlow optimizers in the TensorFlow format the optimizer's state will not be saved.\n",
            "\n",
            "Consider using a TensorFlow optimizer from `tf.train`.\n",
            " - 0s - loss: 0.0011 - acc: 1.0000 - val_loss: 0.4952 - val_acc: 0.8730\n"
          ],
          "name": "stdout"
        },
        {
          "output_type": "execute_result",
          "data": {
            "text/plain": [
              "<tensorflow.python.keras.callbacks.History at 0x7f6e198d36a0>"
            ]
          },
          "metadata": {
            "tags": []
          },
          "execution_count": 12
        }
      ]
    },
    {
      "metadata": {
        "id": "z4vqTT88_tyl",
        "colab_type": "code",
        "colab": {
          "base_uri": "https://localhost:8080/",
          "height": 221
        },
        "outputId": "bc7a747f-bf98-43ce-8302-a49919282911"
      },
      "cell_type": "code",
      "source": [
        "! ls {checkpoint_dir}"
      ],
      "execution_count": 13,
      "outputs": [
        {
          "output_type": "stream",
          "text": [
            "checkpoint\t\t\t  cp-0025.ckpt.index\n",
            "cp-0000.ckpt.data-00000-of-00001  cp-0030.ckpt.data-00000-of-00001\n",
            "cp-0000.ckpt.index\t\t  cp-0030.ckpt.index\n",
            "cp-0005.ckpt.data-00000-of-00001  cp-0035.ckpt.data-00000-of-00001\n",
            "cp-0005.ckpt.index\t\t  cp-0035.ckpt.index\n",
            "cp-0010.ckpt.data-00000-of-00001  cp-0040.ckpt.data-00000-of-00001\n",
            "cp-0010.ckpt.index\t\t  cp-0040.ckpt.index\n",
            "cp-0015.ckpt.data-00000-of-00001  cp-0045.ckpt.data-00000-of-00001\n",
            "cp-0015.ckpt.index\t\t  cp-0045.ckpt.index\n",
            "cp-0020.ckpt.data-00000-of-00001  cp-0050.ckpt.data-00000-of-00001\n",
            "cp-0020.ckpt.index\t\t  cp-0050.ckpt.index\n",
            "cp-0025.ckpt.data-00000-of-00001\n"
          ],
          "name": "stdout"
        }
      ]
    },
    {
      "metadata": {
        "id": "iiIJaLNhAfBx",
        "colab_type": "code",
        "colab": {
          "base_uri": "https://localhost:8080/",
          "height": 34
        },
        "outputId": "3ef198f0-f732-4b4e-eaae-d2f46922fcfd"
      },
      "cell_type": "code",
      "source": [
        "latest = tf.train.latest_checkpoint(checkpoint_dir)\n",
        "latest"
      ],
      "execution_count": 14,
      "outputs": [
        {
          "output_type": "execute_result",
          "data": {
            "text/plain": [
              "'training_2/cp-0050.ckpt'"
            ]
          },
          "metadata": {
            "tags": []
          },
          "execution_count": 14
        }
      ]
    },
    {
      "metadata": {
        "id": "J8QDOLCcAs_P",
        "colab_type": "code",
        "colab": {
          "base_uri": "https://localhost:8080/",
          "height": 51
        },
        "outputId": "33e525f6-9797-4081-dd46-e425febe510c"
      },
      "cell_type": "code",
      "source": [
        "model = create_model()\n",
        "model.load_weights(latest)\n",
        "loss, acc = model.evaluate(test_images, test_labels)\n",
        "print(\"Restored model, accuracy: {:5.2f}%\".format(100*acc))"
      ],
      "execution_count": 15,
      "outputs": [
        {
          "output_type": "stream",
          "text": [
            "1000/1000 [==============================] - 0s 129us/sample - loss: 0.4952 - acc: 0.8730\n",
            "Restored model, accuracy: 87.30%\n"
          ],
          "name": "stdout"
        }
      ]
    },
    {
      "metadata": {
        "id": "QNHDxq8fAyGz",
        "colab_type": "code",
        "colab": {
          "base_uri": "https://localhost:8080/",
          "height": 187
        },
        "outputId": "f8ec74a8-c76e-4adf-a404-4aa1b7049661"
      },
      "cell_type": "code",
      "source": [
        "model = create_model()\n",
        "\n",
        "model.fit(train_images, train_labels, epochs=5)\n",
        "\n",
        "# Save entire model to a HDF5 file\n",
        "model.save('my_model.h5')"
      ],
      "execution_count": 16,
      "outputs": [
        {
          "output_type": "stream",
          "text": [
            "Epoch 1/5\n",
            "1000/1000 [==============================] - 0s 271us/sample - loss: 1.1827 - acc: 0.6670\n",
            "Epoch 2/5\n",
            "1000/1000 [==============================] - 0s 137us/sample - loss: 0.4267 - acc: 0.8860\n",
            "Epoch 3/5\n",
            "1000/1000 [==============================] - 0s 134us/sample - loss: 0.2816 - acc: 0.9300\n",
            "Epoch 4/5\n",
            "1000/1000 [==============================] - 0s 136us/sample - loss: 0.2048 - acc: 0.9560\n",
            "Epoch 5/5\n",
            "1000/1000 [==============================] - 0s 160us/sample - loss: 0.1531 - acc: 0.9720\n"
          ],
          "name": "stdout"
        }
      ]
    },
    {
      "metadata": {
        "id": "VTFJV8ZjBA5v",
        "colab_type": "code",
        "colab": {
          "base_uri": "https://localhost:8080/",
          "height": 238
        },
        "outputId": "672d23b5-e1d9-47e5-a1ff-108cc1b4950a"
      },
      "cell_type": "code",
      "source": [
        "new_model = keras.models.load_model('my_model.h5')\n",
        "new_model.summary()"
      ],
      "execution_count": 17,
      "outputs": [
        {
          "output_type": "stream",
          "text": [
            "_________________________________________________________________\n",
            "Layer (type)                 Output Shape              Param #   \n",
            "=================================================================\n",
            "dense_12 (Dense)             (None, 512)               401920    \n",
            "_________________________________________________________________\n",
            "dropout_6 (Dropout)          (None, 512)               0         \n",
            "_________________________________________________________________\n",
            "dense_13 (Dense)             (None, 10)                5130      \n",
            "=================================================================\n",
            "Total params: 407,050\n",
            "Trainable params: 407,050\n",
            "Non-trainable params: 0\n",
            "_________________________________________________________________\n"
          ],
          "name": "stdout"
        }
      ]
    },
    {
      "metadata": {
        "id": "kQZc1BQmBGdQ",
        "colab_type": "code",
        "colab": {
          "base_uri": "https://localhost:8080/",
          "height": 51
        },
        "outputId": "451772c7-6ae4-45c5-f3a4-f226da3e30a9"
      },
      "cell_type": "code",
      "source": [
        "loss, acc = new_model.evaluate(test_images, test_labels)\n",
        "print(\"Restored model, accuracy: {:5.2f}%\".format(100*acc))"
      ],
      "execution_count": 18,
      "outputs": [
        {
          "output_type": "stream",
          "text": [
            "1000/1000 [==============================] - 0s 142us/sample - loss: 0.4138 - acc: 0.8700\n",
            "Restored model, accuracy: 87.00%\n"
          ],
          "name": "stdout"
        }
      ]
    },
    {
      "metadata": {
        "id": "Tw1UdWk8BKWW",
        "colab_type": "code",
        "colab": {}
      },
      "cell_type": "code",
      "source": [
        ""
      ],
      "execution_count": 0,
      "outputs": []
    }
  ]
}